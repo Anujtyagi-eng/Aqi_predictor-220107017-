{
 "cells": [
  {
   "cell_type": "markdown",
   "metadata": {
    "id": "z0WShVdzApiU"
   },
   "source": [
    "# Instructions\n",
    "* An Excel sheet is provided to download the data given against it.\n",
    "Work with the data.\n",
    "* while submitting, submit the .ipynb file directly. ***no need to convert to pdf***\n",
    "* Select the Data set, Processing specific row ranges according to your Roll number's last Digit\n",
    "\n",
    "***Roll No (ODD): Flocculant data*** \n",
    "\n",
    "***Roll No (Even): RO data***\n",
    "\n",
    "* Rename the file to your roll number.ipynb (eg:111101001.ipynb)\n"
   ]
  },
  {
   "cell_type": "markdown",
   "metadata": {
    "id": "1aM6W25yAYww"
   },
   "source": [
    "# SECTION 1\n",
    "* Import all required\n",
    "* Make sure that all the import statements are written in the below python cell"
   ]
  },
  {
   "cell_type": "code",
   "execution_count": null,
   "metadata": {
    "id": "WuqsWwCgASdk"
   },
   "outputs": [],
   "source": []
  },
  {
   "cell_type": "markdown",
   "metadata": {
    "id": "I01icK46A3R5"
   },
   "source": [
    "# SECTION 2:\n",
    "* Import the dataset given to you and name it with your name.\n",
    "* Example: your name: john\n",
    "  Name of dataframe : john_df"
   ]
  },
  {
   "cell_type": "code",
   "execution_count": null,
   "metadata": {
    "id": "sqm0NKBa8Gy_"
   },
   "outputs": [],
   "source": []
  },
  {
   "cell_type": "markdown",
   "metadata": {
    "id": "8u32kM0P8HF_"
   },
   "source": [
    "# SECTION 3\n",
    " Preprocessing\n",
    "* Remove duplicates if they are present\n",
    "* Fill null values with the mean(Roll no: Even)/median (Roll no: ODD) if any are found\n",
    "  \n",
    "  ***Feature scaling:***\n",
    "* Min-Max Scaling (Normalization) Roll No: Even\n",
    "* Standardization (Z-Score Normalization) Roll No: ODD\n",
    "\n",
    "  ***Correlation Heatmap***\n",
    " * Drop the columns based on the heat map if required "
   ]
  },
  {
   "cell_type": "code",
   "execution_count": null,
   "metadata": {
    "id": "H5xJ8ncE8UgV"
   },
   "outputs": [],
   "source": []
  },
  {
   "cell_type": "markdown",
   "metadata": {},
   "source": [
    "# SECTION 4: (Perform outlier removal, apply Principal Component Analysis (PCA)), LDA, t-SNE\n",
    " ***Outlier removal***\n",
    " * Z-Score Method (Standardization) Roll No: ODD\n",
    " * Interquartile Range (IQR) Method Roll No: Even\n",
    " \n",
    " ***Feature Extraction***\n",
    "* Perform PCA, LDA, TSNE with 3 components.\n",
    "* Print all necessary for PCA results.\n",
    "* Plot new PC1 to PC3\n",
    "* Choose **TDS_p** for RO_data and **T_o** for Flocculant_data as your target variable\n",
    "* Generate a Scree Plot for PCA, LDA."
   ]
  },
  {
   "cell_type": "code",
   "execution_count": null,
   "metadata": {
    "scrolled": true
   },
   "outputs": [],
   "source": []
  },
  {
   "cell_type": "code",
   "execution_count": null,
   "metadata": {},
   "outputs": [],
   "source": []
  },
  {
   "cell_type": "code",
   "execution_count": null,
   "metadata": {},
   "outputs": [],
   "source": []
  },
  {
   "cell_type": "code",
   "execution_count": null,
   "metadata": {},
   "outputs": [],
   "source": []
  },
  {
   "cell_type": "markdown",
   "metadata": {},
   "source": [
    "# SECTION 5: (Classification using Decision Trees)\n",
    "\n",
    "* Perform Decision Trees on the original data and transformed data of PCA, LDA, and t-SNE\n",
    "* Print classification report\n",
    "* Print confusion matrix(Please make the confusion matrix legible.)\n",
    "* Plot the Decision Tree\n",
    "* Provide feature importances for this tree"
   ]
  },
  {
   "cell_type": "code",
   "execution_count": null,
   "metadata": {},
   "outputs": [],
   "source": []
  },
  {
   "cell_type": "code",
   "execution_count": null,
   "metadata": {},
   "outputs": [],
   "source": []
  },
  {
   "cell_type": "code",
   "execution_count": null,
   "metadata": {},
   "outputs": [],
   "source": []
  },
  {
   "cell_type": "code",
   "execution_count": null,
   "metadata": {},
   "outputs": [],
   "source": []
  },
  {
   "cell_type": "markdown",
   "metadata": {},
   "source": [
    "# SECTION 6: Perform Hyperparameter tuning using GridSearchCV\n",
    "\n",
    "* Choose your own parameters to tune **(Don't take too many variations as time increases drastically)**\n",
    "* Perform Hyperparameter tuning using GridSearchCV\n",
    "* Retrain the classifiers using optimal hyperparameters\n",
    "* Calculate the new metrics"
   ]
  },
  {
   "cell_type": "code",
   "execution_count": null,
   "metadata": {},
   "outputs": [],
   "source": []
  },
  {
   "cell_type": "markdown",
   "metadata": {},
   "source": [
    "# SECTION 7: Compare performances of Logistic Regression on Original, PCA, LDA, and t-SNE and how it varies with hyperparameter tuning"
   ]
  },
  {
   "cell_type": "code",
   "execution_count": null,
   "metadata": {},
   "outputs": [],
   "source": []
  }
 ],
 "metadata": {
  "colab": {
   "collapsed_sections": [
    "hE1R2trS8qYj"
   ],
   "provenance": []
  },
  "kernel_info": {
   "name": "python"
  },
  "kernelspec": {
   "display_name": "Python 3 (ipykernel)",
   "language": "python",
   "name": "python3"
  },
  "language_info": {
   "codemirror_mode": {
    "name": "ipython",
    "version": 3
   },
   "file_extension": ".py",
   "mimetype": "text/x-python",
   "name": "python",
   "nbconvert_exporter": "python",
   "pygments_lexer": "ipython3",
   "version": "3.9.12"
  },
  "nteract": {
   "version": "nteract-front-end@1.0.0"
  }
 },
 "nbformat": 4,
 "nbformat_minor": 4
}
