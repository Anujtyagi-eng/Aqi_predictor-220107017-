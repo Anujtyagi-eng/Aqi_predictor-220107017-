{
 "cells": [
  {
   "cell_type": "markdown",
   "metadata": {
    "id": "z0WShVdzApiU"
   },
   "source": [
    "# Instructions\n",
    "* An Excel sheet is provided to download the data given against it.\n",
    "Work with the data.\n",
    "* while submitting, submit the .ipynb file directly. ***no need to convert to pdf***\n",
    "* Select the Data set, Processing specific row ranges according to your Roll number's last Digit\n",
    "\n",
    "\n",
    "Here is the list of Roll Numbers last digit from 1 to (10 or 0):   \n",
    "Roll.No -- Data set\n",
    "1. 2\n",
    "2. 4\n",
    "3. 3\n",
    "4. 10\n",
    "5. 1\n",
    "6. 8\n",
    "7. 6\n",
    "8. 5\n",
    "9. 9\n",
    "10. 7\n",
    "\n",
    "* Rename the file to your roll number.ipynb (eg:111101001.ipynb)"
   ]
  },
  {
   "cell_type": "markdown",
   "metadata": {
    "id": "1aM6W25yAYww"
   },
   "source": [
    "# SECTION 1\n",
    "* Import all required\n",
    "* Make sure that all the import statements are written in the below python cell"
   ]
  },
  {
   "cell_type": "code",
   "execution_count": null,
   "metadata": {
    "id": "WuqsWwCgASdk"
   },
   "outputs": [],
   "source": [
    "import numpy as np\n",
    "import pandas as pd\n",
    "import matplotlib.pyplot as plt\n",
    "import seaborn as sns\n",
    "import sklearn \n",
    "from sklearn.preprocessing import MinMaxScaler\n",
    "from sklearn.decomposition import PCA\n",
    "from mpl_toolkits.mplot3d import Axes3D\n",
    "from sklearn.discriminant_analysis import LinearDiscriminantAnalysis as LDA\n",
    "from sklearn.manifold import TSNE\n",
    "from sklearn.model_selection import train_test_split\n",
    "from sklearn.naive_bayes import GaussianNB\n",
    "from sklearn.svm import SVC\n",
    "from sklearn.neighbors import KNeighborsClassifier\n",
    "from sklearn.linear_model import LogisticRegression\n",
    "from sklearn.tree import DecisionTreeClassifier, plot_tree\n",
    "from sklearn.ensemble import RandomForestClassifier, VotingClassifier\n",
    "from sklearn.metrics import classification_report, confusion_matrix, accuracy_score\n",
    "from sklearn.model_selection import GridSearchCV"
   ]
  },
  {
   "cell_type": "markdown",
   "metadata": {
    "id": "I01icK46A3R5"
   },
   "source": [
    "# SECTION 2:\n",
    "* Import the dataset given to you and name it with your name.\n",
    "* Example: your name: john\n",
    "  Name of dataframe : john_df"
   ]
  },
  {
   "cell_type": "code",
   "execution_count": null,
   "metadata": {
    "id": "sqm0NKBa8Gy_"
   },
   "outputs": [],
   "source": [
    "sahil_df = pd.read_excel(\"RO_data8.xlsx\")"
   ]
  },
  {
   "cell_type": "markdown",
   "metadata": {
    "id": "8u32kM0P8HF_"
   },
   "source": [
    "# SECTION 3\n",
    " Preprocessing\n",
    "* Remove duplicates if they are present\n",
    "* Fill null values with the mean (**Roll no: ODD**)/median (**Roll no: EVEN**) if any are found\n",
    "* *Optional:* If you want you can try null value imputation using KNNImputer or MissingForest instead of above (if you are doing then you can add a small write up at the end as to why we use these algorithms over mean/median imputing and how they work)\n",
    "  \n",
    "  ***Feature scaling:***\n",
    "* Min-Max Scaling (Normalization) **Roll No: ODD**\n",
    "* Standardization (Z-Score Normalization) **Roll No: EVEN**\n",
    "\n",
    "  ***Correlation Heatmap***\n",
    " * Drop the columns based on the heat map if required "
   ]
  },
  {
   "cell_type": "code",
   "execution_count": null,
   "metadata": {
    "id": "H5xJ8ncE8UgV"
   },
   "outputs": [],
   "source": []
  },
  {
   "cell_type": "markdown",
   "metadata": {},
   "source": [
    "# SECTION 4: (Perform outlier removal, apply Principal Component Analysis (PCA))\n",
    " ***Outlier removal***\n",
    " * Z-Score Method (Standardization) **Roll No: EVEN**\n",
    " * Interquartile Range (IQR) Method **Roll No: ODD**\n",
    " \n",
    " ***Feature Extraction***\n",
    "* Perform PCA with 3 components.\n",
    "* Print all necessary for PCA results.\n",
    "* Plot new PC1 to PC3\n",
    "* Choose **TDS_p** for RO_data and **T_o** for Flocculant_data as your target variable\n",
    "* Generate a Scree Plot for PCA."
   ]
  },
  {
   "cell_type": "code",
   "execution_count": null,
   "metadata": {
    "scrolled": true
   },
   "outputs": [],
   "source": []
  },
  {
   "cell_type": "code",
   "execution_count": null,
   "metadata": {},
   "outputs": [],
   "source": []
  },
  {
   "cell_type": "code",
   "execution_count": null,
   "metadata": {},
   "outputs": [],
   "source": []
  },
  {
   "cell_type": "code",
   "execution_count": null,
   "metadata": {},
   "outputs": [],
   "source": []
  },
  {
   "cell_type": "markdown",
   "metadata": {},
   "source": [
    "# SECTION 5: (Regression using Simple Linear Regression and Multi-Linear Regression)\n",
    "\n",
    "* Perform each of the classification algorithms on the original data and transformed data of PCA only.\n",
    "* Calculate the mean-squared error and R2 value for all.\n",
    "* Plot the curve fitting for Simple Linear Regression.\n",
    "* For SLR, use the most correlated feature as the input feature"
   ]
  },
  {
   "cell_type": "code",
   "execution_count": null,
   "metadata": {},
   "outputs": [],
   "source": []
  },
  {
   "cell_type": "code",
   "execution_count": null,
   "metadata": {},
   "outputs": [],
   "source": []
  },
  {
   "cell_type": "code",
   "execution_count": null,
   "metadata": {},
   "outputs": [],
   "source": []
  },
  {
   "cell_type": "code",
   "execution_count": null,
   "metadata": {},
   "outputs": [],
   "source": []
  },
  {
   "cell_type": "markdown",
   "metadata": {},
   "source": [
    "# SECTION 6: Perform Kernel Regression (you can use KRR or SVR from sklearn)\n",
    "\n",
    "* Try Kernel regression with **atleast 3 types** of Kernels\n",
    "* Calculate the mean-squared error and R2 value for all."
   ]
  },
  {
   "cell_type": "code",
   "execution_count": null,
   "metadata": {},
   "outputs": [],
   "source": []
  },
  {
   "cell_type": "markdown",
   "metadata": {},
   "source": [
    "# SECTION 7: Compare performances of each algorithm and explain how Kernel Regression is beneficial"
   ]
  },
  {
   "cell_type": "code",
   "execution_count": null,
   "metadata": {},
   "outputs": [],
   "source": []
  },
  {
   "cell_type": "code",
   "execution_count": null,
   "metadata": {},
   "outputs": [],
   "source": []
  }
 ],
 "metadata": {
  "colab": {
   "collapsed_sections": [
    "hE1R2trS8qYj"
   ],
   "provenance": []
  },
  "kernel_info": {
   "name": "python"
  },
  "kernelspec": {
   "display_name": "Python 3 (ipykernel)",
   "language": "python",
   "name": "python3"
  },
  "language_info": {
   "codemirror_mode": {
    "name": "ipython",
    "version": 3
   },
   "file_extension": ".py",
   "mimetype": "text/x-python",
   "name": "python",
   "nbconvert_exporter": "python",
   "pygments_lexer": "ipython3",
   "version": "3.12.7"
  },
  "nteract": {
   "version": "nteract-front-end@1.0.0"
  }
 },
 "nbformat": 4,
 "nbformat_minor": 4
}
